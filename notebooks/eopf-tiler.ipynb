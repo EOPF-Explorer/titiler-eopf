{
 "cells": [
  {
   "cell_type": "markdown",
   "id": "225230f9",
   "metadata": {},
   "source": [
    "## Working with TiTiler-EoPF\n",
    "\n",
    "\n",
    "#### Requirements\n",
    "- folium\n",
    "- httpx\n",
    "\n",
    "`pip install folium httpx`"
   ]
  },
  {
   "cell_type": "code",
   "execution_count": null,
   "id": "5e6c1f42",
   "metadata": {},
   "outputs": [],
   "source": [
    "# Uncomment this line if you need to install the dependencies\n",
    "# !python -m pip install folium httpx"
   ]
  },
  {
   "cell_type": "code",
   "execution_count": null,
   "id": "fd8bb40d",
   "metadata": {},
   "outputs": [],
   "source": [
    "import json\n",
    "import httpx\n",
    "from folium import Map, TileLayer\n",
    "\n",
    "from IPython.display import Image\n",
    "\n",
    "%matplotlib inline"
   ]
  },
  {
   "cell_type": "code",
   "execution_count": null,
   "id": "472d4cee",
   "metadata": {},
   "outputs": [],
   "source": [
    "titiler_endpoint = \"http://127.0.0.1:8000\""
   ]
  },
  {
   "cell_type": "markdown",
   "id": "c0fad3b4",
   "metadata": {},
   "source": [
    "### Conformances"
   ]
  },
  {
   "cell_type": "code",
   "execution_count": null,
   "id": "a1376ff2",
   "metadata": {},
   "outputs": [],
   "source": [
    "r = httpx.get(f\"{titiler_endpoint}/conformance\").json()\n",
    "print(json.dumps(r, indent=4))"
   ]
  },
  {
   "cell_type": "code",
   "execution_count": null,
   "id": "466c3473",
   "metadata": {},
   "outputs": [],
   "source": [
    "collection_id = \"sentinel-2-l2a\"\n",
    "item_id = \"S2A_MSIL2A_20250918T100041_N0511_R122_T33TUG_20250918T121119\""
   ]
  },
  {
   "cell_type": "markdown",
   "id": "b5c0766c",
   "metadata": {},
   "source": [
    "## Variables"
   ]
  },
  {
   "cell_type": "code",
   "execution_count": null,
   "id": "973de16a",
   "metadata": {},
   "outputs": [],
   "source": [
    "# Fetch Metadata for all available variables\n",
    "r = httpx.get(\n",
    "    f\"{titiler_endpoint}/collections/{collection_id}/items/{item_id}/dataset/keys\",\n",
    "    timeout=20,\n",
    ").json()\n",
    "\n",
    "print(\"list of supported variables: \")\n",
    "print(json.dumps(list(r), indent=4))"
   ]
  },
  {
   "cell_type": "markdown",
   "id": "5ea52861",
   "metadata": {},
   "source": [
    "### Info"
   ]
  },
  {
   "cell_type": "code",
   "execution_count": null,
   "id": "75a95efd",
   "metadata": {},
   "outputs": [],
   "source": [
    "# Fetch Metadata for all available variables\n",
    "r = httpx.get(\n",
    "    f\"{titiler_endpoint}/collections/{collection_id}/items/{item_id}/info\",\n",
    "    timeout=10,\n",
    ").json()\n",
    "\n",
    "print(json.dumps(r, indent=4))"
   ]
  },
  {
   "cell_type": "code",
   "execution_count": null,
   "id": "e0aab9c1",
   "metadata": {},
   "outputs": [],
   "source": [
    "# Fetch Metadata for a specific Variable\n",
    "r = httpx.get(\n",
    "    f\"{titiler_endpoint}/collections/{collection_id}/items/{item_id}/info\",\n",
    "    params={\n",
    "        \"variables\": \"/measurements/reflectance/r60m:b05\",\n",
    "    },\n",
    "    timeout=10,\n",
    ").json()\n",
    "\n",
    "print(json.dumps(r, indent=4))"
   ]
  },
  {
   "cell_type": "markdown",
   "id": "35fabb9b",
   "metadata": {},
   "source": [
    "## Display tiles\n",
    "\n",
    "### Single Variable"
   ]
  },
  {
   "cell_type": "code",
   "execution_count": null,
   "id": "c5fec7a7",
   "metadata": {},
   "outputs": [],
   "source": [
    "r = httpx.get(\n",
    "    f\"{titiler_endpoint}/collections/{collection_id}/items/{item_id}/WebMercatorQuad/tilejson.json\",\n",
    "    params={\n",
    "        \"variables\": \"/quality/l2a_quicklook/r10m:tci\",\n",
    "    },\n",
    "    timeout=10,\n",
    ").json()\n",
    "print(r)\n",
    "bounds = r[\"bounds\"]\n",
    "m = Map(\n",
    "    location=((bounds[1] + bounds[3]) / 2, (bounds[0] + bounds[2]) / 2), zoom_start=8\n",
    ")\n",
    "\n",
    "TileLayer(tiles=r[\"tiles\"][0], opacity=1, attr=\"ESA EoPF\").add_to(m)\n",
    "m"
   ]
  },
  {
   "cell_type": "markdown",
   "id": "0235443c",
   "metadata": {},
   "source": [
    "### Band Combination: False Color Nir/Red/Green"
   ]
  },
  {
   "cell_type": "code",
   "execution_count": null,
   "id": "88eb11ef",
   "metadata": {},
   "outputs": [],
   "source": [
    "r = httpx.get(\n",
    "    f\"{titiler_endpoint}/collections/{collection_id}/items/{item_id}/WebMercatorQuad/tilejson.json\",\n",
    "    params=[\n",
    "        (\"variables\", \"/measurements/reflectance/r10m:b08\"),\n",
    "        (\"variables\", \"/measurements/reflectance/r10m:b04\"),\n",
    "        (\"variables\", \"/measurements/reflectance/r10m:b03\"),\n",
    "        (\"rescale\", \"0,1\"),\n",
    "    ],\n",
    ").json()\n",
    "print(r)\n",
    "bounds = r[\"bounds\"]\n",
    "m = Map(\n",
    "    location=((bounds[1] + bounds[3]) / 2, (bounds[0] + bounds[2]) / 2), zoom_start=9\n",
    ")\n",
    "\n",
    "TileLayer(tiles=r[\"tiles\"][0], opacity=1, attr=\"ESA EoPF\").add_to(m)\n",
    "\n",
    "m"
   ]
  },
  {
   "cell_type": "markdown",
   "id": "4687a631",
   "metadata": {},
   "source": [
    "### Band Math: NDVI"
   ]
  },
  {
   "cell_type": "code",
   "execution_count": null,
   "id": "c43c6a49",
   "metadata": {},
   "outputs": [],
   "source": [
    "red = \"/measurements/reflectance/r10m:b04\"\n",
    "nir = \"/measurements/reflectance/r10m:b08\"\n",
    "\n",
    "r = httpx.get(\n",
    "    f\"{titiler_endpoint}/collections/{collection_id}/items/{item_id}/WebMercatorQuad/tilejson.json\",\n",
    "    params=[\n",
    "        (\"expression\", f\"({nir}-{red})/({nir}+{red})\"),\n",
    "        (\"rescale\", \"-1,1\"),\n",
    "        (\"colormap_name\", \"viridis\"),\n",
    "    ],\n",
    "    timeout=10,\n",
    ").json()\n",
    "print(r)\n",
    "bounds = r[\"bounds\"]\n",
    "m = Map(\n",
    "    location=((bounds[1] + bounds[3]) / 2, (bounds[0] + bounds[2]) / 2), zoom_start=9\n",
    ")\n",
    "\n",
    "TileLayer(tiles=r[\"tiles\"][0], opacity=1, attr=\"ESA EoPF\").add_to(m)\n",
    "\n",
    "m"
   ]
  },
  {
   "cell_type": "markdown",
   "id": "31197112",
   "metadata": {},
   "source": [
    "### Preview"
   ]
  },
  {
   "cell_type": "code",
   "execution_count": null,
   "id": "853245dd",
   "metadata": {},
   "outputs": [],
   "source": [
    "r = httpx.get(\n",
    "    f\"{titiler_endpoint}/collections/{collection_id}/items/{item_id}/preview.png\",\n",
    "    params=[\n",
    "        (\"variables\", \"/measurements/reflectance/r10m:b08\"),\n",
    "        (\"variables\", \"/measurements/reflectance/r10m:b04\"),\n",
    "        (\"variables\", \"/measurements/reflectance/r10m:b03\"),\n",
    "        (\"rescale\", \"0,1\"),\n",
    "        (\"max_size\", 256),\n",
    "    ],\n",
    ")\n",
    "print(r.headers)\n",
    "Image(r.content)"
   ]
  },
  {
   "cell_type": "markdown",
   "id": "723915c9",
   "metadata": {},
   "source": [
    "### OGC Maps"
   ]
  },
  {
   "cell_type": "code",
   "execution_count": null,
   "id": "4113c333",
   "metadata": {},
   "outputs": [],
   "source": [
    "r = httpx.get(\n",
    "    f\"{titiler_endpoint}/collections/{collection_id}/items/{item_id}/map\",\n",
    "    params=[\n",
    "        (\"variables\", \"/measurements/reflectance/r10m:b08\"),\n",
    "        (\"variables\", \"/measurements/reflectance/r10m:b04\"),\n",
    "        (\"variables\", \"/measurements/reflectance/r10m:b03\"),\n",
    "        (\"rescale\", \"0,1\"),\n",
    "        (\"width\", 256),\n",
    "        (\"height\", 256),\n",
    "        (\"f\", \"png\"),\n",
    "    ],\n",
    ")\n",
    "print(r.headers)\n",
    "Image(r.content)"
   ]
  },
  {
   "cell_type": "code",
   "execution_count": null,
   "id": "e85d9b19",
   "metadata": {},
   "outputs": [],
   "source": [
    "r = httpx.get(\n",
    "    f\"{titiler_endpoint}/collections/{collection_id}/items/{item_id}/map\",\n",
    "    params=[\n",
    "        (\"variables\", \"/measurements/reflectance/r10m:b08\"),\n",
    "        (\"variables\", \"/measurements/reflectance/r10m:b04\"),\n",
    "        (\"variables\", \"/measurements/reflectance/r10m:b03\"),\n",
    "        (\"rescale\", \"0,1\"),\n",
    "        (\"width\", 256),\n",
    "        (\"height\", 256),\n",
    "        (\"f\", \"png\"),\n",
    "        (\"crs\", \"EPSG:32633\"),\n",
    "    ],\n",
    ")\n",
    "print(r.headers)\n",
    "Image(r.content)"
   ]
  },
  {
   "cell_type": "markdown",
   "id": "631d1b0a",
   "metadata": {},
   "source": [
    "### Part"
   ]
  },
  {
   "cell_type": "code",
   "execution_count": null,
   "id": "e74f3ccc",
   "metadata": {},
   "outputs": [],
   "source": [
    "r = httpx.get(\n",
    "    f\"{titiler_endpoint}/collections/{collection_id}/items/{item_id}/bbox/12.876475023062739,41.85068925356174,13.112219919388622,42.044510255080894.png\",\n",
    "    params=[\n",
    "        (\"variables\", \"/measurements/reflectance/r10m:b08\"),\n",
    "        (\"variables\", \"/measurements/reflectance/r10m:b04\"),\n",
    "        (\"variables\", \"/measurements/reflectance/r10m:b03\"),\n",
    "        (\"rescale\", \"0,1\"),\n",
    "        (\"width\", 256),\n",
    "        (\"height\", 256),\n",
    "    ],\n",
    ")\n",
    "print(r.headers)\n",
    "Image(r.content)"
   ]
  },
  {
   "cell_type": "code",
   "execution_count": null,
   "id": "342bfd35",
   "metadata": {},
   "outputs": [],
   "source": [
    "import json\n",
    "\n",
    "feat = {\n",
    "    \"type\": \"Feature\",\n",
    "    \"properties\": {},\n",
    "    \"geometry\": {\n",
    "        \"coordinates\": [\n",
    "            [\n",
    "                [13.007976382149138, 42.044510255080894],\n",
    "                [12.876475023062739, 41.920657412019864],\n",
    "                [12.986959890789478, 41.85068925356174],\n",
    "                [13.059243278886385, 41.85491287703039],\n",
    "                [13.10232704916828, 41.90887095414385],\n",
    "                [13.112219919388622, 41.97901081115802],\n",
    "                [13.084478709917647, 42.03192521656223],\n",
    "                [13.007976382149138, 42.044510255080894],\n",
    "            ]\n",
    "        ],\n",
    "        \"type\": \"Polygon\",\n",
    "    },\n",
    "}\n",
    "\n",
    "r = httpx.post(\n",
    "    f\"{titiler_endpoint}/collections/{collection_id}/items/{item_id}/feature.png\",\n",
    "    data=json.dumps(feat),\n",
    "    params=[\n",
    "        (\"variables\", \"/measurements/reflectance/r10m:b08\"),\n",
    "        (\"variables\", \"/measurements/reflectance/r10m:b04\"),\n",
    "        (\"variables\", \"/measurements/reflectance/r10m:b03\"),\n",
    "        (\"rescale\", \"0,1\"),\n",
    "        (\"width\", 256),\n",
    "        (\"height\", 256),\n",
    "    ],\n",
    ")\n",
    "print(r.headers)\n",
    "Image(r.content)"
   ]
  },
  {
   "cell_type": "code",
   "execution_count": null,
   "id": "ec73043f",
   "metadata": {},
   "outputs": [],
   "source": []
  }
 ],
 "metadata": {
  "kernelspec": {
   "display_name": ".venv (3.13.7)",
   "language": "python",
   "name": "python3"
  },
  "language_info": {
   "codemirror_mode": {
    "name": "ipython",
    "version": 3
   },
   "file_extension": ".py",
   "mimetype": "text/x-python",
   "name": "python",
   "nbconvert_exporter": "python",
   "pygments_lexer": "ipython3",
   "version": "3.13.7"
  }
 },
 "nbformat": 4,
 "nbformat_minor": 5
}
