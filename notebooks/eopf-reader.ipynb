{
 "cells": [
  {
   "cell_type": "code",
   "execution_count": null,
   "id": "fd8bb40d",
   "metadata": {},
   "outputs": [],
   "source": [
    "import os\n",
    "from titiler.eopf.reader import GeoZarrReader\n",
    "from matplotlib.pyplot import imshow"
   ]
  },
  {
   "cell_type": "code",
   "execution_count": null,
   "id": "472d4cee",
   "metadata": {},
   "outputs": [],
   "source": [
    "os.environ[\"AWS_PROFILE\"] = \"eopf-explorer\"\n",
    "os.environ[\"AWS_ENDPOINT_URL\"] = \"https://s3.de.io.cloud.ovh.net/\""
   ]
  },
  {
   "cell_type": "code",
   "execution_count": null,
   "id": "77021b68",
   "metadata": {},
   "outputs": [],
   "source": [
    "src_path = \"s3://esa-zarr-sentinel-explorer-fra/tests-output/eopf_geozarr/S2A_MSIL2A_20250704T094051_N0511_R036_T33SWB_20250704T115824.zarr\""
   ]
  },
  {
   "cell_type": "code",
   "execution_count": null,
   "id": "dd5128d0",
   "metadata": {},
   "outputs": [],
   "source": [
    "with GeoZarrReader(src_path) as geozarr:\n",
    "    print(geozarr)"
   ]
  },
  {
   "cell_type": "code",
   "execution_count": null,
   "id": "e7009395",
   "metadata": {},
   "outputs": [],
   "source": [
    "with GeoZarrReader(src_path) as geozarr:\n",
    "    print(\"Available Groups :\", geozarr.groups)\n",
    "    print(\"Available Variables :\", geozarr.variables)"
   ]
  },
  {
   "cell_type": "markdown",
   "id": "6a2289ed",
   "metadata": {},
   "source": [
    "## GetInfo"
   ]
  },
  {
   "cell_type": "code",
   "execution_count": null,
   "id": "5d00eb4d",
   "metadata": {},
   "outputs": [],
   "source": [
    "with GeoZarrReader(src_path) as geozarr:\n",
    "    # get Info for all available variables\n",
    "    info = geozarr.info()\n",
    "\n",
    "    info_b03 = geozarr.info(variables=[\"/measurements/reflectance/r10m:b03\"])\n",
    "\n",
    "print(info)\n",
    "print(info_b03)"
   ]
  },
  {
   "cell_type": "markdown",
   "id": "4d0f8049",
   "metadata": {},
   "source": [
    "## GetTile"
   ]
  },
  {
   "cell_type": "code",
   "execution_count": null,
   "id": "1f0e2297",
   "metadata": {},
   "outputs": [],
   "source": [
    "with GeoZarrReader(src_path) as geozarr:\n",
    "    minzoom, maxzoom = (\n",
    "        geozarr.get_minzoom(\"/measurements/reflectance/r10m\"),\n",
    "        geozarr.get_maxzoom(\"/measurements/reflectance/r10m\"),\n",
    "    )\n",
    "    center_lon = (geozarr.bounds[2] + geozarr.bounds[0]) / 2\n",
    "    center_lat = (geozarr.bounds[3] + geozarr.bounds[1]) / 2\n",
    "\n",
    "    print(\"MinZoom: \", minzoom)\n",
    "    print(\"MaxZoom: \", maxzoom)\n",
    "    print(\"Bounds: \", geozarr.bounds)"
   ]
  },
  {
   "cell_type": "code",
   "execution_count": null,
   "id": "75a95efd",
   "metadata": {},
   "outputs": [],
   "source": [
    "with GeoZarrReader(src_path) as geozarr:\n",
    "    tile = geozarr.tms.tile(center_lon, center_lat, minzoom)\n",
    "    print(tile)\n",
    "\n",
    "    red = \"/measurements/reflectance/r10m:b04\"\n",
    "    nir = \"/measurements/reflectance/r10m:b08\"\n",
    "    expression = f\"({nir}-{red})/({nir}+{red})\"\n",
    "\n",
    "    img = geozarr.tile(\n",
    "        *tile,\n",
    "        expression=expression,\n",
    "    )\n",
    "    img.rescale(((-1, 0.1),))\n",
    "\n",
    "imshow(img.data_as_image())"
   ]
  },
  {
   "cell_type": "code",
   "execution_count": null,
   "id": "fae6aef8",
   "metadata": {},
   "outputs": [],
   "source": [
    "with GeoZarrReader(src_path) as geozarr:\n",
    "    tile = geozarr.tms.tile(center_lon, center_lat, minzoom)\n",
    "    print(tile)\n",
    "    img = geozarr.tile(\n",
    "        *tile,\n",
    "        variables=[\n",
    "            \"/measurements/reflectance/r10m:b04\",\n",
    "            \"/measurements/reflectance/r10m:b03\",\n",
    "            \"/measurements/reflectance/r10m:b02\",\n",
    "        ],\n",
    "    )\n",
    "    img.rescale(((0, 0.1),))\n",
    "imshow(img.data_as_image())"
   ]
  },
  {
   "cell_type": "code",
   "execution_count": null,
   "id": "cb0a5dd6",
   "metadata": {},
   "outputs": [],
   "source": [
    "with GeoZarrReader(src_path) as geozarr:\n",
    "    tile = geozarr.tms.tile(center_lon, center_lat, maxzoom)\n",
    "    print(tile)\n",
    "    img = geozarr.tile(\n",
    "        *tile,\n",
    "        variables=[\n",
    "            \"/measurements/reflectance/r10m:b04\",\n",
    "            \"/measurements/reflectance/r10m:b03\",\n",
    "            \"/measurements/reflectance/r10m:b02\",\n",
    "        ],\n",
    "    )\n",
    "    img.rescale(((0, 0.1),))\n",
    "imshow(img.data_as_image())"
   ]
  },
  {
   "cell_type": "code",
   "execution_count": null,
   "id": "8ee575e8",
   "metadata": {},
   "outputs": [],
   "source": []
  }
 ],
 "metadata": {
  "kernelspec": {
   "display_name": "python3.13 (3.13.7)",
   "language": "python",
   "name": "python3"
  },
  "language_info": {
   "codemirror_mode": {
    "name": "ipython",
    "version": 3
   },
   "file_extension": ".py",
   "mimetype": "text/x-python",
   "name": "python",
   "nbconvert_exporter": "python",
   "pygments_lexer": "ipython3",
   "version": "3.13.7"
  }
 },
 "nbformat": 4,
 "nbformat_minor": 5
}
